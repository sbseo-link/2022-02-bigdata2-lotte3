{
 "cells": [
  {
   "cell_type": "markdown",
   "metadata": {
    "id": "PLbkY9UL5LFK"
   },
   "source": [
    "Bybit Testnet API (https://bybit-exchange.github.io/docs/testnet/derivativesV3/unified_margin/#t-introduction)"
   ]
  },
  {
   "cell_type": "markdown",
   "metadata": {
    "id": "1_SXeMcF5PR_"
   },
   "source": [
    "00 - REST API"
   ]
  },
  {
   "cell_type": "code",
   "execution_count": 1,
   "metadata": {
    "colab": {
     "base_uri": "https://localhost:8080/"
    },
    "executionInfo": {
     "elapsed": 5,
     "status": "ok",
     "timestamp": 1669918795593,
     "user": {
      "displayName": "sangbuem seo",
      "userId": "15418591347726449918"
     },
     "user_tz": -540
    },
    "id": "MYBR7XDV23SE",
    "outputId": "a83e5a94-f5f3-4685-e9c8-4c3496d41620"
   },
   "outputs": [
    {
     "name": "stdout",
     "output_type": "stream",
     "text": [
      "https://api-testnet.bybit.com/spot/v3/public/symbols\n"
     ]
    }
   ],
   "source": [
    "# [REST API 테스트하기]\n",
    "base_url = 'https://api-testnet.bybit.com'\n",
    "test_endpoint = '/spot/v3/public/symbols'\n",
    "full_url = base_url + test_endpoint\n",
    "print(full_url)"
   ]
  },
  {
   "cell_type": "markdown",
   "metadata": {
    "id": "TO2esSQe5TTz"
   },
   "source": [
    "01 - 데이터 수집"
   ]
  },
  {
   "cell_type": "code",
   "execution_count": 2,
   "metadata": {
    "colab": {
     "base_uri": "https://localhost:8080/"
    },
    "executionInfo": {
     "elapsed": 6,
     "status": "ok",
     "timestamp": 1669918818019,
     "user": {
      "displayName": "sangbuem seo",
      "userId": "15418591347726449918"
     },
     "user_tz": -540
    },
    "id": "iYIUM7QV6VbA",
    "outputId": "99d9e9bf-823e-41ce-92f8-8583ccdb48b1"
   },
   "outputs": [
    {
     "name": "stdout",
     "output_type": "stream",
     "text": [
      "https://api-testnet.bybit.com/spot/v3/public/quote/ticker/price\n"
     ]
    }
   ],
   "source": [
    "base_url = 'https://api-testnet.bybit.com'\n",
    "endpoint = '/spot/v3/public/quote/ticker/price'\n",
    "full_url = base_url + endpoint\n",
    "print(full_url)"
   ]
  },
  {
   "cell_type": "code",
   "execution_count": 5,
   "metadata": {
    "colab": {
     "base_uri": "https://localhost:8080/"
    },
    "executionInfo": {
     "elapsed": 1283,
     "status": "ok",
     "timestamp": 1669918994611,
     "user": {
      "displayName": "sangbuem seo",
      "userId": "15418591347726449918"
     },
     "user_tz": -540
    },
    "id": "HIB-2aDb7Khc",
    "outputId": "7e11df71-4223-4160-b5c0-889424a0af0b"
   },
   "outputs": [
    {
     "name": "stdout",
     "output_type": "stream",
     "text": [
      "<Response [200]>\n"
     ]
    }
   ],
   "source": [
    "import requests\n",
    "response = requests.get(full_url)\n",
    "print(response)"
   ]
  },
  {
   "cell_type": "code",
   "execution_count": 6,
   "metadata": {
    "colab": {
     "base_uri": "https://localhost:8080/"
    },
    "executionInfo": {
     "elapsed": 325,
     "status": "ok",
     "timestamp": 1669919016961,
     "user": {
      "displayName": "sangbuem seo",
      "userId": "15418591347726449918"
     },
     "user_tz": -540
    },
    "id": "NT3i_Gfv7dnu",
    "outputId": "6a863e86-50a3-4dbb-a8ed-e4b99aad22a5"
   },
   "outputs": [
    {
     "data": {
      "text/plain": [
       "['__attrs__',\n",
       " '__bool__',\n",
       " '__class__',\n",
       " '__delattr__',\n",
       " '__dict__',\n",
       " '__dir__',\n",
       " '__doc__',\n",
       " '__enter__',\n",
       " '__eq__',\n",
       " '__exit__',\n",
       " '__format__',\n",
       " '__ge__',\n",
       " '__getattribute__',\n",
       " '__getstate__',\n",
       " '__gt__',\n",
       " '__hash__',\n",
       " '__init__',\n",
       " '__init_subclass__',\n",
       " '__iter__',\n",
       " '__le__',\n",
       " '__lt__',\n",
       " '__module__',\n",
       " '__ne__',\n",
       " '__new__',\n",
       " '__nonzero__',\n",
       " '__reduce__',\n",
       " '__reduce_ex__',\n",
       " '__repr__',\n",
       " '__setattr__',\n",
       " '__setstate__',\n",
       " '__sizeof__',\n",
       " '__str__',\n",
       " '__subclasshook__',\n",
       " '__weakref__',\n",
       " '_content',\n",
       " '_content_consumed',\n",
       " '_next',\n",
       " 'apparent_encoding',\n",
       " 'close',\n",
       " 'connection',\n",
       " 'content',\n",
       " 'cookies',\n",
       " 'elapsed',\n",
       " 'encoding',\n",
       " 'headers',\n",
       " 'history',\n",
       " 'is_permanent_redirect',\n",
       " 'is_redirect',\n",
       " 'iter_content',\n",
       " 'iter_lines',\n",
       " 'json',\n",
       " 'links',\n",
       " 'next',\n",
       " 'ok',\n",
       " 'raise_for_status',\n",
       " 'raw',\n",
       " 'reason',\n",
       " 'request',\n",
       " 'status_code',\n",
       " 'text',\n",
       " 'url']"
      ]
     },
     "execution_count": 6,
     "metadata": {},
     "output_type": "execute_result"
    }
   ],
   "source": [
    "dir(response)"
   ]
  },
  {
   "cell_type": "code",
   "execution_count": 7,
   "metadata": {
    "colab": {
     "base_uri": "https://localhost:8080/"
    },
    "executionInfo": {
     "elapsed": 2,
     "status": "ok",
     "timestamp": 1669919110031,
     "user": {
      "displayName": "sangbuem seo",
      "userId": "15418591347726449918"
     },
     "user_tz": -540
    },
    "id": "AMOnrUDF7iyA",
    "outputId": "47a935bd-f64a-4afd-9f6c-4b57856dcea2"
   },
   "outputs": [
    {
     "name": "stdout",
     "output_type": "stream",
     "text": [
      "<bound method Response.json of <Response [200]>>\n"
     ]
    }
   ],
   "source": [
    "data = response.json\n",
    "print(data)"
   ]
  },
  {
   "cell_type": "code",
   "execution_count": 8,
   "metadata": {
    "colab": {
     "base_uri": "https://localhost:8080/"
    },
    "executionInfo": {
     "elapsed": 6,
     "status": "ok",
     "timestamp": 1669919236635,
     "user": {
      "displayName": "sangbuem seo",
      "userId": "15418591347726449918"
     },
     "user_tz": -540
    },
    "id": "fJNJHhq57ptW",
    "outputId": "bc5fcc92-83df-4370-f29f-7625174aae6d"
   },
   "outputs": [
    {
     "name": "stdout",
     "output_type": "stream",
     "text": [
      "{'retCode': 0, 'retMsg': 'OK', 'result': {'list': [{'symbol': 'OMGUSDT', 'price': '99'}, {'symbol': 'EOSBIT', 'price': '3'}, {'symbol': 'BITETH', 'price': '0.044'}, {'symbol': 'ADAUSDT', 'price': '42'}, {'symbol': 'BITUSDT', 'price': '4.1886'}, {'symbol': 'BTC3SUSDT', 'price': '12.6'}, {'symbol': 'AVAXUSDT', 'price': '16.025'}, {'symbol': 'LTCUSDT', 'price': '69.3'}, {'symbol': 'ETHUSDC', 'price': '1689.96'}, {'symbol': 'UNIBTC', 'price': '0.99'}, {'symbol': 'ICXUSDT', 'price': '9'}, {'symbol': 'SOLOETH', 'price': '10.1'}, {'symbol': 'BITUSDC', 'price': '2'}, {'symbol': 'APEUSDT', 'price': '11'}, {'symbol': 'ETHUSDT', 'price': '556.2'}, {'symbol': 'XRPUSDC', 'price': '0.329'}, {'symbol': 'MANAUSDT', 'price': '1'}, {'symbol': 'DOTUSDT', 'price': '16'}, {'symbol': 'BTCUSDT', 'price': '16691.51'}, {'symbol': 'SHIBIDAI', 'price': '10'}, {'symbol': 'BTCUSDC', 'price': '21558.49'}, {'symbol': 'XRPUSDT', 'price': '0.07'}, {'symbol': 'PMTEST15EUR', 'price': '4.1'}, {'symbol': 'EOSUSDT', 'price': '0.011'}, {'symbol': 'BTC3LUSDT', 'price': '0.7'}, {'symbol': 'XRPBTC', 'price': '0.00000013'}, {'symbol': 'EOSETH', 'price': '3.3'}, {'symbol': 'SOLUSDT', 'price': '869'}, {'symbol': 'DOGEUSDT', 'price': '0.5272'}, {'symbol': 'XRPBIT', 'price': '144'}, {'symbol': 'BTGUSDC', 'price': '1'}, {'symbol': 'DYDXUSDT', 'price': '15.594'}, {'symbol': 'PMTEST15USDT', 'price': '100'}, {'symbol': 'XRP3SUSDT', 'price': '1.688'}, {'symbol': 'SOLOUSDT', 'price': '6.1'}, {'symbol': 'SANDUSDT', 'price': '268.18175'}, {'symbol': 'USDCUSDT', 'price': '0.25'}, {'symbol': 'SOLBTC', 'price': '0.8'}, {'symbol': 'USDTEUR', 'price': '1.01'}, {'symbol': 'BTCBIT', 'price': '120'}, {'symbol': 'DYDXETH', 'price': '1'}, {'symbol': 'BUSDUSDT', 'price': '2'}, {'symbol': 'LUNCUSDT', 'price': '101'}, {'symbol': 'SOLDAI', 'price': '1.77'}, {'symbol': 'ADAUSDC', 'price': '0.0001'}, {'symbol': 'BTCETH', 'price': '12'}]}, 'retExtInfo': {}, 'time': 1669966607871}\n"
     ]
    }
   ],
   "source": [
    "data = response.json()\n",
    "print(data)"
   ]
  },
  {
   "cell_type": "code",
   "execution_count": 15,
   "metadata": {
    "colab": {
     "base_uri": "https://localhost:8080/"
    },
    "executionInfo": {
     "elapsed": 6,
     "status": "ok",
     "timestamp": 1669919238741,
     "user": {
      "displayName": "sangbuem seo",
      "userId": "15418591347726449918"
     },
     "user_tz": -540
    },
    "id": "etxTrcGX7r9M",
    "outputId": "98aa5c22-0d4c-46d6-b7b0-faeb57ce6fb3"
   },
   "outputs": [
    {
     "name": "stdout",
     "output_type": "stream",
     "text": [
      "<class 'dict'>\n",
      "retCode\n",
      "retMsg\n",
      "result\n",
      "retExtInfo\n",
      "time\n"
     ]
    }
   ],
   "source": [
    "data_type = type(data)\n",
    "print(data_type)\n",
    "for k, v in data.items():\n",
    "    print(k)"
   ]
  },
  {
   "cell_type": "markdown",
   "metadata": {
    "id": "jF7qb9iY5Y5I"
   },
   "source": [
    "02 - 데이터 가공 및 전처리"
   ]
  },
  {
   "cell_type": "code",
   "execution_count": 16,
   "metadata": {
    "colab": {
     "base_uri": "https://localhost:8080/"
    },
    "executionInfo": {
     "elapsed": 6,
     "status": "ok",
     "timestamp": 1669919250156,
     "user": {
      "displayName": "sangbuem seo",
      "userId": "15418591347726449918"
     },
     "user_tz": -540
    },
    "id": "YLJ7siuS7niV",
    "outputId": "ea6d7c3e-1230-492d-da7b-4b9fce69f8db"
   },
   "outputs": [
    {
     "name": "stdout",
     "output_type": "stream",
     "text": [
      "{'list': [{'symbol': 'OMGUSDT', 'price': '99'}, {'symbol': 'EOSBIT', 'price': '3'}, {'symbol': 'BITETH', 'price': '0.044'}, {'symbol': 'ADAUSDT', 'price': '42'}, {'symbol': 'BITUSDT', 'price': '4.1886'}, {'symbol': 'BTC3SUSDT', 'price': '12.6'}, {'symbol': 'AVAXUSDT', 'price': '16.025'}, {'symbol': 'LTCUSDT', 'price': '69.3'}, {'symbol': 'ETHUSDC', 'price': '1689.96'}, {'symbol': 'UNIBTC', 'price': '0.99'}, {'symbol': 'ICXUSDT', 'price': '9'}, {'symbol': 'SOLOETH', 'price': '10.1'}, {'symbol': 'BITUSDC', 'price': '2'}, {'symbol': 'APEUSDT', 'price': '11'}, {'symbol': 'ETHUSDT', 'price': '556.2'}, {'symbol': 'XRPUSDC', 'price': '0.329'}, {'symbol': 'MANAUSDT', 'price': '1'}, {'symbol': 'DOTUSDT', 'price': '16'}, {'symbol': 'BTCUSDT', 'price': '16691.51'}, {'symbol': 'SHIBIDAI', 'price': '10'}, {'symbol': 'BTCUSDC', 'price': '21558.49'}, {'symbol': 'XRPUSDT', 'price': '0.07'}, {'symbol': 'PMTEST15EUR', 'price': '4.1'}, {'symbol': 'EOSUSDT', 'price': '0.011'}, {'symbol': 'BTC3LUSDT', 'price': '0.7'}, {'symbol': 'XRPBTC', 'price': '0.00000013'}, {'symbol': 'EOSETH', 'price': '3.3'}, {'symbol': 'SOLUSDT', 'price': '869'}, {'symbol': 'DOGEUSDT', 'price': '0.5272'}, {'symbol': 'XRPBIT', 'price': '144'}, {'symbol': 'BTGUSDC', 'price': '1'}, {'symbol': 'DYDXUSDT', 'price': '15.594'}, {'symbol': 'PMTEST15USDT', 'price': '100'}, {'symbol': 'XRP3SUSDT', 'price': '1.688'}, {'symbol': 'SOLOUSDT', 'price': '6.1'}, {'symbol': 'SANDUSDT', 'price': '268.18175'}, {'symbol': 'USDCUSDT', 'price': '0.25'}, {'symbol': 'SOLBTC', 'price': '0.8'}, {'symbol': 'USDTEUR', 'price': '1.01'}, {'symbol': 'BTCBIT', 'price': '120'}, {'symbol': 'DYDXETH', 'price': '1'}, {'symbol': 'BUSDUSDT', 'price': '2'}, {'symbol': 'LUNCUSDT', 'price': '101'}, {'symbol': 'SOLDAI', 'price': '1.77'}, {'symbol': 'ADAUSDC', 'price': '0.0001'}, {'symbol': 'BTCETH', 'price': '12'}]}\n"
     ]
    }
   ],
   "source": [
    "data = data['result']\n",
    "print(data)"
   ]
  },
  {
   "cell_type": "code",
   "execution_count": 17,
   "metadata": {
    "colab": {
     "base_uri": "https://localhost:8080/"
    },
    "executionInfo": {
     "elapsed": 3,
     "status": "ok",
     "timestamp": 1669919290380,
     "user": {
      "displayName": "sangbuem seo",
      "userId": "15418591347726449918"
     },
     "user_tz": -540
    },
    "id": "5vyCVuoP8gXd",
    "outputId": "47f76ed6-c56e-49ea-977d-d0157e5ba477"
   },
   "outputs": [
    {
     "name": "stdout",
     "output_type": "stream",
     "text": [
      "[{'symbol': 'OMGUSDT', 'price': '99'}, {'symbol': 'EOSBIT', 'price': '3'}, {'symbol': 'BITETH', 'price': '0.044'}, {'symbol': 'ADAUSDT', 'price': '42'}, {'symbol': 'BITUSDT', 'price': '4.1886'}, {'symbol': 'BTC3SUSDT', 'price': '12.6'}, {'symbol': 'AVAXUSDT', 'price': '16.025'}, {'symbol': 'LTCUSDT', 'price': '69.3'}, {'symbol': 'ETHUSDC', 'price': '1689.96'}, {'symbol': 'UNIBTC', 'price': '0.99'}, {'symbol': 'ICXUSDT', 'price': '9'}, {'symbol': 'SOLOETH', 'price': '10.1'}, {'symbol': 'BITUSDC', 'price': '2'}, {'symbol': 'APEUSDT', 'price': '11'}, {'symbol': 'ETHUSDT', 'price': '556.2'}, {'symbol': 'XRPUSDC', 'price': '0.329'}, {'symbol': 'MANAUSDT', 'price': '1'}, {'symbol': 'DOTUSDT', 'price': '16'}, {'symbol': 'BTCUSDT', 'price': '16691.51'}, {'symbol': 'SHIBIDAI', 'price': '10'}, {'symbol': 'BTCUSDC', 'price': '21558.49'}, {'symbol': 'XRPUSDT', 'price': '0.07'}, {'symbol': 'PMTEST15EUR', 'price': '4.1'}, {'symbol': 'EOSUSDT', 'price': '0.011'}, {'symbol': 'BTC3LUSDT', 'price': '0.7'}, {'symbol': 'XRPBTC', 'price': '0.00000013'}, {'symbol': 'EOSETH', 'price': '3.3'}, {'symbol': 'SOLUSDT', 'price': '869'}, {'symbol': 'DOGEUSDT', 'price': '0.5272'}, {'symbol': 'XRPBIT', 'price': '144'}, {'symbol': 'BTGUSDC', 'price': '1'}, {'symbol': 'DYDXUSDT', 'price': '15.594'}, {'symbol': 'PMTEST15USDT', 'price': '100'}, {'symbol': 'XRP3SUSDT', 'price': '1.688'}, {'symbol': 'SOLOUSDT', 'price': '6.1'}, {'symbol': 'SANDUSDT', 'price': '268.18175'}, {'symbol': 'USDCUSDT', 'price': '0.25'}, {'symbol': 'SOLBTC', 'price': '0.8'}, {'symbol': 'USDTEUR', 'price': '1.01'}, {'symbol': 'BTCBIT', 'price': '120'}, {'symbol': 'DYDXETH', 'price': '1'}, {'symbol': 'BUSDUSDT', 'price': '2'}, {'symbol': 'LUNCUSDT', 'price': '101'}, {'symbol': 'SOLDAI', 'price': '1.77'}, {'symbol': 'ADAUSDC', 'price': '0.0001'}, {'symbol': 'BTCETH', 'price': '12'}]\n"
     ]
    }
   ],
   "source": [
    "data = data['list']\n",
    "print(data)"
   ]
  },
  {
   "cell_type": "code",
   "execution_count": 18,
   "metadata": {
    "colab": {
     "base_uri": "https://localhost:8080/"
    },
    "executionInfo": {
     "elapsed": 3,
     "status": "ok",
     "timestamp": 1669919348083,
     "user": {
      "displayName": "sangbuem seo",
      "userId": "15418591347726449918"
     },
     "user_tz": -540
    },
    "id": "icrE8-Qf4F3e",
    "outputId": "e7eacd21-a463-48b0-ed84-d37d56604e66"
   },
   "outputs": [
    {
     "name": "stdout",
     "output_type": "stream",
     "text": [
      "{'symbol': 'BTCUSDT', 'price': '16691.51'}\n"
     ]
    }
   ],
   "source": [
    "# [데이터 형식에 따라 원하는 데이터 추출하기]\n",
    "symbol = 'BTCUSDT'\n",
    "for d in data:\n",
    "  if d['symbol'] == symbol:\n",
    "    symbol_data = d\n",
    "    print(symbol_data)"
   ]
  },
  {
   "cell_type": "code",
   "execution_count": 19,
   "metadata": {
    "colab": {
     "base_uri": "https://localhost:8080/"
    },
    "executionInfo": {
     "elapsed": 53452,
     "status": "ok",
     "timestamp": 1669920224676,
     "user": {
      "displayName": "sangbuem seo",
      "userId": "15418591347726449918"
     },
     "user_tz": -540
    },
    "id": "_7SFQPRT4joA",
    "outputId": "2079a433-569c-46ee-891b-5b778e679ffd"
   },
   "outputs": [
    {
     "name": "stdout",
     "output_type": "stream",
     "text": [
      "{'symbol': 'BTCUSDT', 'price': '16691.51'}\n",
      "16691.51 \n",
      "\n",
      "['16691.51']\n",
      "{'symbol': 'BTCUSDT', 'price': '16691.51'}\n",
      "16691.51 \n",
      "\n",
      "['16691.51', '16691.51']\n",
      "{'symbol': 'BTCUSDT', 'price': '16691.51'}\n",
      "16691.51 \n",
      "\n",
      "['16691.51', '16691.51', '16691.51']\n",
      "{'symbol': 'BTCUSDT', 'price': '16691.51'}\n",
      "16691.51 \n",
      "\n",
      "['16691.51', '16691.51', '16691.51', '16691.51']\n",
      "{'symbol': 'BTCUSDT', 'price': '16691.51'}\n",
      "16691.51 \n",
      "\n",
      "['16691.51', '16691.51', '16691.51', '16691.51', '16691.51']\n",
      "{'symbol': 'BTCUSDT', 'price': '16691.51'}\n",
      "16691.51 \n",
      "\n",
      "['16691.51', '16691.51', '16691.51', '16691.51', '16691.51', '16691.51']\n",
      "{'symbol': 'BTCUSDT', 'price': '16691.51'}\n",
      "16691.51 \n",
      "\n",
      "['16691.51', '16691.51', '16691.51', '16691.51', '16691.51', '16691.51', '16691.51']\n",
      "{'symbol': 'BTCUSDT', 'price': '16691.51'}\n",
      "16691.51 \n",
      "\n",
      "['16691.51', '16691.51', '16691.51', '16691.51', '16691.51', '16691.51', '16691.51', '16691.51']\n",
      "{'symbol': 'BTCUSDT', 'price': '16691.51'}\n",
      "16691.51 \n",
      "\n",
      "['16691.51', '16691.51', '16691.51', '16691.51', '16691.51', '16691.51', '16691.51', '16691.51', '16691.51']\n",
      "{'symbol': 'BTCUSDT', 'price': '16691.51'}\n",
      "16691.51 \n",
      "\n",
      "['16691.51', '16691.51', '16691.51', '16691.51', '16691.51', '16691.51', '16691.51', '16691.51', '16691.51', '16691.51']\n"
     ]
    }
   ],
   "source": [
    "# [N 회 연속으로 데이터 구하기]\n",
    "import time\n",
    "\n",
    "N_data = []\n",
    "for i in range(10):\n",
    "  data = requests.get(full_url).json()['result']['list']\n",
    "  for d in data:\n",
    "    if d['symbol'] == symbol:\n",
    "      symbol_price = d['price']\n",
    "\n",
    "      print(symbol_data)\n",
    "      N_data.append(symbol_price)\n",
    "      print(symbol_price, '\\n')\n",
    "  time.sleep(5)\n",
    "  \n",
    "  print(N_data)"
   ]
  },
  {
   "cell_type": "markdown",
   "metadata": {
    "id": "H074pyDr5bdI"
   },
   "source": [
    "03 - 데이터 활용 로직"
   ]
  },
  {
   "cell_type": "code",
   "execution_count": 20,
   "metadata": {
    "colab": {
     "base_uri": "https://localhost:8080/",
     "height": 241
    },
    "executionInfo": {
     "elapsed": 1160,
     "status": "error",
     "timestamp": 1669920228042,
     "user": {
      "displayName": "sangbuem seo",
      "userId": "15418591347726449918"
     },
     "user_tz": -540
    },
    "id": "bE9TUt8S9yp6",
    "outputId": "fc8bb7c8-efa2-4cd9-9a51-603dd4f7cb54"
   },
   "outputs": [
    {
     "ename": "TypeError",
     "evalue": "unsupported operand type(s) for +=: 'int' and 'str'",
     "output_type": "error",
     "traceback": [
      "\u001b[0;31m---------------------------------------------------------------------------\u001b[0m",
      "\u001b[0;31mTypeError\u001b[0m                                 Traceback (most recent call last)",
      "Cell \u001b[0;32mIn[20], line 5\u001b[0m\n\u001b[1;32m      3\u001b[0m N_data_count \u001b[38;5;241m=\u001b[39m \u001b[38;5;241m0\u001b[39m\n\u001b[1;32m      4\u001b[0m \u001b[38;5;28;01mfor\u001b[39;00m d \u001b[38;5;129;01min\u001b[39;00m N_data:\n\u001b[0;32m----> 5\u001b[0m   sum_data_price \u001b[38;5;241m+\u001b[39m\u001b[38;5;241m=\u001b[39m d\n\u001b[1;32m      6\u001b[0m   N_data_count \u001b[38;5;241m+\u001b[39m\u001b[38;5;241m=\u001b[39m \u001b[38;5;241m1\u001b[39m\n\u001b[1;32m      8\u001b[0m mean_price \u001b[38;5;241m=\u001b[39m sum_data_price \u001b[38;5;241m/\u001b[39m N_data_count\n",
      "\u001b[0;31mTypeError\u001b[0m: unsupported operand type(s) for +=: 'int' and 'str'"
     ]
    }
   ],
   "source": [
    "# [데이터 평균 구하기]\n",
    "sum_data_price = 0\n",
    "N_data_count = 0\n",
    "for d in N_data:\n",
    "  sum_data_price += d\n",
    "  N_data_count += 1\n",
    "\n",
    "mean_price = sum_data_price / N_data_count\n",
    "print(mean_price)"
   ]
  },
  {
   "cell_type": "code",
   "execution_count": 63,
   "metadata": {
    "colab": {
     "base_uri": "https://localhost:8080/"
    },
    "executionInfo": {
     "elapsed": 545,
     "status": "ok",
     "timestamp": 1669920231720,
     "user": {
      "displayName": "sangbuem seo",
      "userId": "15418591347726449918"
     },
     "user_tz": -540
    },
    "id": "GGjVwB8L-zFT",
    "outputId": "8d5690bb-e3c9-4dda-bd03-af55bf5f679f"
   },
   "outputs": [
    {
     "name": "stdout",
     "output_type": "stream",
     "text": [
      "16900.0\n"
     ]
    }
   ],
   "source": [
    "# [데이터 평균 구하기]\n",
    "sum_data_price = 0\n",
    "N_data_count = 0\n",
    "for d in N_data:\n",
    "  sum_data_price += float(d)\n",
    "  N_data_count += 1\n",
    "\n",
    "mean_price = sum_data_price / N_data_count\n",
    "print(mean_price)"
   ]
  },
  {
   "cell_type": "code",
   "execution_count": null,
   "metadata": {
    "colab": {
     "base_uri": "https://localhost:8080/"
    },
    "executionInfo": {
     "elapsed": 514,
     "status": "ok",
     "timestamp": 1669920422286,
     "user": {
      "displayName": "sangbuem seo",
      "userId": "15418591347726449918"
     },
     "user_tz": -540
    },
    "id": "5IdtJ94lAOjW",
    "outputId": "e1a7f08b-ac7a-447e-f438-45217462ddbc"
   },
   "outputs": [],
   "source": [
    "# [현재 데이터 구하기]\n",
    "data = requests.get(full_url).json()['result']['list']\n",
    "for d in data:\n",
    "  if d['symbol'] == symbol:\n",
    "    cur_price = float(d['price'])\n",
    "\n",
    "    print(cur_price)"
   ]
  },
  {
   "cell_type": "code",
   "execution_count": 70,
   "metadata": {
    "colab": {
     "base_uri": "https://localhost:8080/"
    },
    "executionInfo": {
     "elapsed": 5,
     "status": "ok",
     "timestamp": 1669920423970,
     "user": {
      "displayName": "sangbuem seo",
      "userId": "15418591347726449918"
     },
     "user_tz": -540
    },
    "id": "T0MlWMZtAfv8",
    "outputId": "fa756c57-48ea-4e2a-a3d8-89f818147ac2"
   },
   "outputs": [
    {
     "name": "stdout",
     "output_type": "stream",
     "text": [
      "john bur\n"
     ]
    }
   ],
   "source": [
    "# [N 회 평균 가격과 현재 가격 비교]\n",
    "if cur_price > mean_price:\n",
    "  signal = 'buy'\n",
    "elif cur_price == mean_price:\n",
    "  signal = 'john bur'\n",
    "else:\n",
    "  signal = 'sell'\n",
    "\n",
    "print(signal)"
   ]
  },
  {
   "cell_type": "code",
   "execution_count": 73,
   "metadata": {
    "colab": {
     "base_uri": "https://localhost:8080/",
     "height": 330
    },
    "executionInfo": {
     "elapsed": 4797,
     "status": "error",
     "timestamp": 1669920550304,
     "user": {
      "displayName": "sangbuem seo",
      "userId": "15418591347726449918"
     },
     "user_tz": -540
    },
    "id": "KoF1s7n9A9e_",
    "outputId": "e4f01497-27cc-4d2f-a90f-6775f6480b11"
   },
   "outputs": [
    {
     "name": "stdout",
     "output_type": "stream",
     "text": [
      "16900.0 16900.0 john bur\n",
      "16900.0 16900.0 john bur\n",
      "16900.0 16900.0 john bur\n",
      "16900.0 16900.0 john bur\n",
      "16900.0 16900.0 john bur\n"
     ]
    },
    {
     "ename": "KeyboardInterrupt",
     "evalue": "ignored",
     "output_type": "error",
     "traceback": [
      "\u001b[0;31m---------------------------------------------------------------------------\u001b[0m",
      "\u001b[0;31mKeyboardInterrupt\u001b[0m                         Traceback (most recent call last)",
      "\u001b[0;32m<ipython-input-73-93c1129c5d2b>\u001b[0m in \u001b[0;36m<module>\u001b[0;34m\u001b[0m\n\u001b[1;32m     12\u001b[0m     \u001b[0;32mbreak\u001b[0m\u001b[0;34m\u001b[0m\u001b[0;34m\u001b[0m\u001b[0m\n\u001b[1;32m     13\u001b[0m \u001b[0;34m\u001b[0m\u001b[0m\n\u001b[0;32m---> 14\u001b[0;31m   \u001b[0mtime\u001b[0m\u001b[0;34m.\u001b[0m\u001b[0msleep\u001b[0m\u001b[0;34m(\u001b[0m\u001b[0;36m1\u001b[0m\u001b[0;34m)\u001b[0m\u001b[0;34m\u001b[0m\u001b[0;34m\u001b[0m\u001b[0m\n\u001b[0m\u001b[1;32m     15\u001b[0m \u001b[0;34m\u001b[0m\u001b[0m\n\u001b[1;32m     16\u001b[0m \u001b[0mprint\u001b[0m\u001b[0;34m(\u001b[0m\u001b[0mcur_price\u001b[0m\u001b[0;34m,\u001b[0m \u001b[0mmean_price\u001b[0m\u001b[0;34m,\u001b[0m \u001b[0msignal\u001b[0m\u001b[0;34m)\u001b[0m\u001b[0;34m\u001b[0m\u001b[0;34m\u001b[0m\u001b[0m\n",
      "\u001b[0;31mKeyboardInterrupt\u001b[0m: "
     ]
    }
   ],
   "source": [
    "# [N 회 평균 가격과 현재 가격 비교]\n",
    "while True:\n",
    "  if cur_price > mean_price:\n",
    "    signal = 'buy'\n",
    "  elif cur_price == mean_price:\n",
    "    signal = 'john bur'\n",
    "  else:\n",
    "    signal = 'sell'\n",
    "\n",
    "  print(cur_price, mean_price, signal)\n",
    "  if signal != 'john bur':\n",
    "    break\n",
    "\n",
    "  time.sleep(1)\n",
    "\n",
    "print(cur_price, mean_price, signal)"
   ]
  },
  {
   "cell_type": "markdown",
   "metadata": {
    "id": "gAQPNQq45fie"
   },
   "source": [
    "04 - 데이터 분석 및 시각화"
   ]
  },
  {
   "cell_type": "code",
   "execution_count": 74,
   "metadata": {
    "colab": {
     "base_uri": "https://localhost:8080/",
     "height": 265
    },
    "executionInfo": {
     "elapsed": 421,
     "status": "ok",
     "timestamp": 1669920554677,
     "user": {
      "displayName": "sangbuem seo",
      "userId": "15418591347726449918"
     },
     "user_tz": -540
    },
    "id": "1DSONB1c5f1n",
    "outputId": "969584af-e9c2-41bf-d41d-5ef1c9bb778d"
   },
   "outputs": [
    {
     "data": {
      "image/png": "[encoded data removed]",
      "text/plain": [
       "<Figure size 432x288 with 1 Axes>"
      ]
     },
     "metadata": {
      "needs_background": "light"
     },
     "output_type": "display_data"
    }
   ],
   "source": [
    "import matplotlib.pyplot as plt\n",
    "\n",
    "plt.plot(N_data)\n",
    "plt.ylabel('some numbers')\n",
    "plt.show()"
   ]
  }
 ],
 "metadata": {
  "colab": {
   "authorship_tag": "ABX9TyPC1PBb2lIjvjMGkvlfK7bR",
   "provenance": []
  },
  "kernelspec": {
   "display_name": "Python 3 (ipykernel)",
   "language": "python",
   "name": "python3"
  },
  "language_info": {
   "codemirror_mode": {
    "name": "ipython",
    "version": 3
   },
   "file_extension": ".py",
   "mimetype": "text/x-python",
   "name": "python",
   "nbconvert_exporter": "python",
   "pygments_lexer": "ipython3",
   "version": "3.10.8"
  }
 },
 "nbformat": 4,
 "nbformat_minor": 1
}
