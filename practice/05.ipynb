{
 "cells": [
  {
   "cell_type": "markdown",
   "id": "b398e1fe",
   "metadata": {},
   "source": [
    "# Week 05. 데이터 활용로직 (딥러닝)"
   ]
  },
  {
   "cell_type": "markdown",
   "id": "2c54fb98",
   "metadata": {},
   "source": [
    "## 0. 딥러닝을 위한 파이썬 복습"
   ]
  },
  {
   "cell_type": "markdown",
   "id": "f8f0befc",
   "metadata": {},
   "source": [
    "### 0-1. 자료형과 연산"
   ]
  },
  {
   "cell_type": "code",
   "execution_count": 1,
   "id": "41e12cdf",
   "metadata": {},
   "outputs": [
    {
     "name": "stdout",
     "output_type": "stream",
     "text": [
      "10 <class 'int'>\n",
      "1.2 <class 'float'>\n"
     ]
    }
   ],
   "source": [
    "# 숫자형\n",
    "a = 10\n",
    "b = 1.2\n",
    "print(a, type(a))\n",
    "print(b, type(b))"
   ]
  },
  {
   "cell_type": "code",
   "execution_count": 2,
   "id": "d0536294",
   "metadata": {},
   "outputs": [
    {
     "name": "stdout",
     "output_type": "stream",
     "text": [
      "Life is too short, Python is fast <class 'str'>\n"
     ]
    }
   ],
   "source": [
    "# 문자열\n",
    "quote = \"Life is too short, Python is fast\"\n",
    "print(quote, type(quote))"
   ]
  },
  {
   "cell_type": "code",
   "execution_count": 3,
   "id": "caf98f38",
   "metadata": {},
   "outputs": [
    {
     "name": "stdout",
     "output_type": "stream",
     "text": [
      "[1, 2, 'Life', ['a', 'b']] <class 'list'>\n",
      "(1, 2, 'Life') <class 'tuple'>\n"
     ]
    }
   ],
   "source": [
    "# 리스트 / 튜플\n",
    "li = [1, 2, \"Life\", [\"a\", \"b\"]]\n",
    "print(li, type(li))\n",
    "\n",
    "tu = (1, 2, \"Life\")\n",
    "print(tu, type(tu))"
   ]
  },
  {
   "cell_type": "code",
   "execution_count": 4,
   "id": "69ae0d54",
   "metadata": {},
   "outputs": [
    {
     "name": "stdout",
     "output_type": "stream",
     "text": [
      "{'k1': 'v1', 'k2': 'v2'} <class 'dict'>\n"
     ]
    }
   ],
   "source": [
    "# 딕셔너리\n",
    "dic = {\"k1\": \"v1\", \"k2\": \"v2\"}\n",
    "print(dic, type(dic))"
   ]
  },
  {
   "cell_type": "markdown",
   "id": "b5cc6cb5",
   "metadata": {},
   "source": [
    "### 0-2. 제어문"
   ]
  },
  {
   "cell_type": "code",
   "execution_count": 5,
   "id": "cfba8f8d",
   "metadata": {},
   "outputs": [
    {
     "name": "stdout",
     "output_type": "stream",
     "text": [
      "2 is even number\n"
     ]
    }
   ],
   "source": [
    "# if \n",
    "a = [1, 2, 3]\n",
    "if a[1] % 2 == 0:\n",
    "    print(\"{} is even number\".format(a[1]))\n",
    "elif a[1] % 2 == 1:\n",
    "    print(\"{} is odd number\".format(a[1]))"
   ]
  },
  {
   "cell_type": "code",
   "execution_count": 6,
   "id": "9807f8f7",
   "metadata": {},
   "outputs": [
    {
     "name": "stdout",
     "output_type": "stream",
     "text": [
      "0\n",
      "1\n",
      "2\n"
     ]
    }
   ],
   "source": [
    "# for\n",
    "for i in range(0, 3):\n",
    "    print(i)"
   ]
  },
  {
   "cell_type": "code",
   "execution_count": 7,
   "id": "668a8021",
   "metadata": {},
   "outputs": [
    {
     "name": "stdout",
     "output_type": "stream",
     "text": [
      "0\n",
      "1\n",
      "2\n"
     ]
    }
   ],
   "source": [
    "# while\n",
    "a = 0\n",
    "while True:\n",
    "    if a == 3:\n",
    "        break\n",
    "    print(a)\n",
    "    a += 1"
   ]
  },
  {
   "cell_type": "markdown",
   "id": "10c7d9c8",
   "metadata": {},
   "source": [
    "### 0-3. 함수와 클래스"
   ]
  },
  {
   "cell_type": "code",
   "execution_count": 8,
   "id": "c988aa4e",
   "metadata": {},
   "outputs": [
    {
     "name": "stdout",
     "output_type": "stream",
     "text": [
      "25\n"
     ]
    }
   ],
   "source": [
    "# 함수\n",
    "def square_sum(a, b):\n",
    "    return a**2 + b**2\n",
    "\n",
    "c = square_sum(3, 4)\n",
    "print(c)"
   ]
  },
  {
   "cell_type": "code",
   "execution_count": 9,
   "id": "1330b774",
   "metadata": {},
   "outputs": [
    {
     "name": "stdout",
     "output_type": "stream",
     "text": [
      "add func = 3\n",
      "multiply func = 2\n"
     ]
    }
   ],
   "source": [
    "# 클래스\n",
    "class Calculator:\n",
    "    def __init(self):\n",
    "        pass\n",
    "    \n",
    "    def add(self, n1, n2):\n",
    "        return n1 + n2\n",
    "    \n",
    "    def multiply(self, n1, n2):\n",
    "        return n1 * n2\n",
    "    \n",
    "calc = Calculator()\n",
    "print(\"add func =\", calc.add(1, 2))\n",
    "print(\"multiply func =\", calc.multiply(1, 2))"
   ]
  },
  {
   "cell_type": "markdown",
   "id": "95b211c8",
   "metadata": {},
   "source": [
    "### 0-4. 패키지"
   ]
  },
  {
   "cell_type": "code",
   "execution_count": 10,
   "id": "fc61d27b",
   "metadata": {},
   "outputs": [
    {
     "name": "stdout",
     "output_type": "stream",
     "text": [
      "[1, 2, 3] <class 'list'>\n",
      "[1 2 3] <class 'numpy.ndarray'>\n"
     ]
    }
   ],
   "source": [
    "import numpy as np\n",
    "arr = [1, 2, 3]\n",
    "np_arr = np.array(arr)\n",
    "print(arr, type(arr))\n",
    "print(np_arr, type(np_arr))"
   ]
  },
  {
   "cell_type": "markdown",
   "id": "1c1298bd",
   "metadata": {},
   "source": [
    "## 1. Pytorch"
   ]
  },
  {
   "cell_type": "code",
   "execution_count": 11,
   "id": "719152c8",
   "metadata": {},
   "outputs": [
    {
     "name": "stdout",
     "output_type": "stream",
     "text": [
      "Requirement already satisfied: torch in /opt/homebrew/lib/python3.10/site-packages (1.13.1)\r\n",
      "Requirement already satisfied: typing-extensions in /opt/homebrew/lib/python3.10/site-packages (from torch) (4.4.0)\r\n"
     ]
    }
   ],
   "source": [
    "!pip3 install torch"
   ]
  },
  {
   "cell_type": "code",
   "execution_count": 12,
   "id": "6e0b22e1",
   "metadata": {},
   "outputs": [],
   "source": [
    "import torch\n",
    "import numpy as np"
   ]
  },
  {
   "cell_type": "markdown",
   "id": "973fccac",
   "metadata": {},
   "source": [
    "### 1-1. Tensors / Numpy"
   ]
  },
  {
   "cell_type": "markdown",
   "id": "b48617ee",
   "metadata": {},
   "source": [
    "* Tensors / Numpy / Python List\n",
    "    * Python List: 행렬연산을 위해 for 문을 사용\n",
    "    * Numpy: 조건에 따라 차원이 다른 배열간의 연산을 가능하게 하는 Broadcasting을 사용하여 연산가능\n",
    "    * Tensor: pytorch의 자료형으로 numpy배열과 비슷하나, GPU에서의 연산이 가능하고, Pytorch의 Autograd(자동미분) 연산 가능 [참고](https://blog.naver.com/PostView.nhn?blogId=qbxlvnf11&logNo=221558405051)"
   ]
  },
  {
   "cell_type": "code",
   "execution_count": 13,
   "id": "05a61ba8",
   "metadata": {},
   "outputs": [
    {
     "name": "stdout",
     "output_type": "stream",
     "text": [
      "tensor([1., 1., 1., 1., 1.]) <class 'torch.Tensor'>\n",
      "[1. 1. 1. 1. 1.] <class 'numpy.ndarray'>\n"
     ]
    }
   ],
   "source": [
    "# Tensor to Numpy\n",
    "a = torch.ones(5)\n",
    "b = a.numpy()\n",
    "print(a, type(a))\n",
    "print(b, type(b))"
   ]
  },
  {
   "cell_type": "code",
   "execution_count": 14,
   "id": "0397a150",
   "metadata": {},
   "outputs": [
    {
     "name": "stdout",
     "output_type": "stream",
     "text": [
      "[1. 1. 1. 1. 1.] <class 'numpy.ndarray'>\n",
      "tensor([1., 1., 1., 1., 1.], dtype=torch.float64) <class 'torch.Tensor'>\n"
     ]
    }
   ],
   "source": [
    "# Numpy to Tensor\n",
    "a = np.ones(5)\n",
    "b = torch.from_numpy(a)\n",
    "print(a, type(a))\n",
    "print(b, type(b))"
   ]
  },
  {
   "cell_type": "markdown",
   "id": "1511d7c3",
   "metadata": {},
   "source": [
    "### 1-2.  Tensor"
   ]
  },
  {
   "cell_type": "code",
   "execution_count": 15,
   "id": "1efa006e",
   "metadata": {},
   "outputs": [
    {
     "name": "stdout",
     "output_type": "stream",
     "text": [
      "tensor([[0., 0., 0.],\n",
      "        [0., 0., 0.],\n",
      "        [0., 0., 0.],\n",
      "        [0., 0., 0.],\n",
      "        [0., 0., 0.]])\n"
     ]
    }
   ],
   "source": [
    "# Tensors 초기화\n",
    "x = torch.empty(5, 3)\n",
    "print(x)"
   ]
  },
  {
   "cell_type": "code",
   "execution_count": 16,
   "id": "1a901caa",
   "metadata": {},
   "outputs": [
    {
     "name": "stdout",
     "output_type": "stream",
     "text": [
      "tensor([[0.7468, 0.5363, 0.9478],\n",
      "        [0.3431, 0.8020, 0.2130],\n",
      "        [0.9765, 0.0453, 0.4681],\n",
      "        [0.1200, 0.5892, 0.4048],\n",
      "        [0.0411, 0.1079, 0.6355]])\n"
     ]
    }
   ],
   "source": [
    "# 0-1 사이 랜덤으로 초기화\n",
    "x = torch.rand(5, 3)\n",
    "print(x)"
   ]
  },
  {
   "cell_type": "code",
   "execution_count": 17,
   "id": "34e5f3ea",
   "metadata": {},
   "outputs": [
    {
     "name": "stdout",
     "output_type": "stream",
     "text": [
      "tensor([[-1.5938, -0.3233,  0.9266],\n",
      "        [ 1.4436,  0.9733, -0.2713],\n",
      "        [ 1.0583, -0.5391, -0.5688],\n",
      "        [-0.6373, -0.7505,  0.6219],\n",
      "        [-1.2044,  0.7270,  0.1579]])\n"
     ]
    }
   ],
   "source": [
    "# 표준 정규 분포에서 랜덤으로 초기화된 행렬 생성\n",
    "x = torch.randn(5, 3)\n",
    "print(x)"
   ]
  },
  {
   "cell_type": "code",
   "execution_count": 18,
   "id": "e2df61a2",
   "metadata": {},
   "outputs": [
    {
     "name": "stdout",
     "output_type": "stream",
     "text": [
      "tensor([1.2000, 2.4000])\n"
     ]
    }
   ],
   "source": [
    "# 값을 지정하여 행렬 생성\n",
    "x = torch.tensor([1.2, 2.4])\n",
    "print(x)"
   ]
  },
  {
   "cell_type": "code",
   "execution_count": 19,
   "id": "169a2083",
   "metadata": {},
   "outputs": [
    {
     "name": "stdout",
     "output_type": "stream",
     "text": [
      "tensor([[ 0.0618,  0.5867,  0.4140],\n",
      "        [ 0.6469, -0.9680,  0.5961],\n",
      "        [-0.1300,  0.5938, -1.3414],\n",
      "        [ 0.5839,  0.2639, -0.5900],\n",
      "        [-1.5409,  0.5966, -0.7263]]) \n",
      " tensor([[-1.1869,  0.8754, -2.1887],\n",
      "        [ 1.1774, -0.0434, -0.1130],\n",
      "        [ 0.8980,  0.8009, -0.6209],\n",
      "        [ 0.3645, -0.9648, -1.5646],\n",
      "        [ 1.6326,  1.6211,  0.3175]]) \n",
      " tensor([[-1.1250,  1.4621, -1.7747],\n",
      "        [ 1.8243, -1.0114,  0.4832],\n",
      "        [ 0.7679,  1.3947, -1.9622],\n",
      "        [ 0.9484, -0.7009, -2.1546],\n",
      "        [ 0.0917,  2.2177, -0.4088]])\n"
     ]
    }
   ],
   "source": [
    "# Tensor 연산 (덧셈)\n",
    "x = torch.randn(5, 3)\n",
    "y = torch.randn(5, 3)\n",
    "print(x, '\\n', y, '\\n', x+y) # x+y = torch.add(x, y)"
   ]
  },
  {
   "cell_type": "code",
   "execution_count": 20,
   "id": "56f5004e",
   "metadata": {},
   "outputs": [
    {
     "name": "stdout",
     "output_type": "stream",
     "text": [
      "torch.Size([4, 4])\n"
     ]
    }
   ],
   "source": [
    "# Tensor 사이즈 확인\n",
    "x = torch.randn(4, 4)\n",
    "print(x.size())"
   ]
  },
  {
   "cell_type": "markdown",
   "id": "b40d9534",
   "metadata": {},
   "source": [
    "### 1-3. Pytorch Project 구조"
   ]
  },
  {
   "cell_type": "code",
   "execution_count": 21,
   "id": "424278f7",
   "metadata": {},
   "outputs": [
    {
     "name": "stdout",
     "output_type": "stream",
     "text": [
      "Requirement already satisfied: torchvision in /opt/homebrew/lib/python3.10/site-packages (0.14.1)\n",
      "Requirement already satisfied: torch in /opt/homebrew/lib/python3.10/site-packages (from torchvision) (1.13.1)\n",
      "Requirement already satisfied: typing-extensions in /opt/homebrew/lib/python3.10/site-packages (from torchvision) (4.4.0)\n",
      "Requirement already satisfied: numpy in /opt/homebrew/lib/python3.10/site-packages (from torchvision) (1.23.5)\n",
      "Requirement already satisfied: requests in /opt/homebrew/lib/python3.10/site-packages (from torchvision) (2.21.0)\n",
      "Requirement already satisfied: pillow!=8.3.*,>=5.3.0 in /opt/homebrew/lib/python3.10/site-packages (from torchvision) (9.3.0)\n",
      "Requirement already satisfied: certifi>=2017.4.17 in /opt/homebrew/lib/python3.10/site-packages (from requests->torchvision) (2022.9.24)\n",
      "Requirement already satisfied: chardet<3.1.0,>=3.0.2 in /opt/homebrew/lib/python3.10/site-packages (from requests->torchvision) (3.0.4)\n",
      "Requirement already satisfied: urllib3<1.25,>=1.21.1 in /opt/homebrew/lib/python3.10/site-packages (from requests->torchvision) (1.24.3)\n",
      "Requirement already satisfied: idna<2.9,>=2.5 in /opt/homebrew/lib/python3.10/site-packages (from requests->torchvision) (2.8)\n"
     ]
    }
   ],
   "source": [
    "!pip3 install torchvision"
   ]
  },
  {
   "cell_type": "markdown",
   "id": "4f819fe0",
   "metadata": {},
   "source": [
    "#### 데이터 로드"
   ]
  },
  {
   "cell_type": "code",
   "execution_count": 22,
   "id": "63886987",
   "metadata": {},
   "outputs": [],
   "source": [
    "import torchvision # to download 'MNIST' dataset\n",
    "import torchvision.transforms as transforms # to manipulate input data"
   ]
  },
  {
   "cell_type": "code",
   "execution_count": 23,
   "id": "cf4b9dc3",
   "metadata": {},
   "outputs": [],
   "source": [
    "train_data = torchvision.datasets.MNIST(root='./datasets', \n",
    "                                          train=True, \n",
    "                                          transform=transforms.ToTensor(), \n",
    "                                          download=True)"
   ]
  },
  {
   "cell_type": "code",
   "execution_count": 24,
   "id": "9340a3fc",
   "metadata": {},
   "outputs": [
    {
     "name": "stdout",
     "output_type": "stream",
     "text": [
      "60000 torch.Size([1, 28, 28]) 5\n"
     ]
    }
   ],
   "source": [
    "# cf) check for the data\n",
    "image, label = train_data[0]\n",
    "print(len(train_data), image.size(), label)"
   ]
  },
  {
   "cell_type": "markdown",
   "id": "16adbb17",
   "metadata": {},
   "source": [
    "#### 데이터 로더"
   ]
  },
  {
   "cell_type": "code",
   "execution_count": 25,
   "id": "ec0f3a07",
   "metadata": {},
   "outputs": [],
   "source": [
    "import torch\n",
    "data_loader = torch.utils.data.DataLoader(dataset=train_data, \n",
    "                                          batch_size=64,\n",
    "                                          shuffle=True)"
   ]
  },
  {
   "cell_type": "code",
   "execution_count": 26,
   "id": "ecb36807",
   "metadata": {},
   "outputs": [
    {
     "name": "stdout",
     "output_type": "stream",
     "text": [
      "938\n",
      "torch.Size([64, 1, 28, 28]) tensor([1, 6, 5, 9, 0, 4, 0, 5, 1, 2, 0, 7, 8, 2, 1, 6, 3, 3, 1, 5, 1, 0, 7, 4,\n",
      "        7, 2, 4, 3, 8, 3, 0, 3, 7, 9, 6, 2, 8, 8, 7, 1, 3, 7, 1, 1, 9, 7, 1, 4,\n",
      "        8, 2, 9, 5, 1, 9, 6, 4, 6, 7, 0, 4, 7, 4, 0, 7])\n",
      "torch.Size([64, 1, 28, 28]) tensor([4, 4, 0, 4, 7, 0, 4, 3, 0, 7, 4, 4, 8, 3, 3, 4, 3, 0, 9, 7, 8, 6, 7, 6,\n",
      "        2, 8, 3, 7, 3, 3, 8, 7, 6, 8, 2, 9, 8, 6, 3, 5, 6, 9, 5, 0, 8, 0, 6, 0,\n",
      "        1, 0, 5, 5, 6, 6, 8, 8, 8, 7, 7, 4, 6, 0, 5, 4])\n",
      "torch.Size([64, 1, 28, 28]) tensor([3, 7, 1, 5, 3, 4, 9, 7, 3, 0, 2, 2, 2, 3, 8, 4, 3, 6, 9, 5, 6, 7, 9, 3,\n",
      "        6, 4, 2, 7, 2, 9, 7, 3, 1, 9, 2, 5, 8, 5, 3, 0, 1, 2, 3, 4, 1, 7, 6, 9,\n",
      "        1, 3, 3, 4, 9, 9, 8, 2, 2, 2, 2, 1, 2, 3, 0, 1])\n"
     ]
    }
   ],
   "source": [
    "# cf) check how data_loader works\n",
    "print(len(data_loader))\n",
    "for idx, (images, labels) in enumerate(data_loader):\n",
    "    if idx == 3:\n",
    "        break\n",
    "    print(images.size(), labels)"
   ]
  },
  {
   "cell_type": "code",
   "execution_count": 27,
   "id": "0f3c83b8",
   "metadata": {},
   "outputs": [
    {
     "name": "stdout",
     "output_type": "stream",
     "text": [
      "torch.Size([64, 1, 28, 28])\n",
      "torch.Size([64])\n"
     ]
    }
   ],
   "source": [
    "print(images.shape)\n",
    "print(labels.shape)"
   ]
  },
  {
   "cell_type": "code",
   "execution_count": 28,
   "id": "8ea9ccde",
   "metadata": {},
   "outputs": [
    {
     "data": {
      "text/plain": [
       "tensor([[[0.0000, 0.0000, 0.0000, 0.0000, 0.0000, 0.0000, 0.0000, 0.0000,\n",
       "          0.0000, 0.0000, 0.0000, 0.0000, 0.0000, 0.0000, 0.0000, 0.0000,\n",
       "          0.0000, 0.0000, 0.0000, 0.0000, 0.0000, 0.0000, 0.0000, 0.0000,\n",
       "          0.0000, 0.0000, 0.0000, 0.0000],\n",
       "         [0.0000, 0.0000, 0.0000, 0.0000, 0.0000, 0.0000, 0.0000, 0.0000,\n",
       "          0.0000, 0.0000, 0.0000, 0.0000, 0.0000, 0.0000, 0.0000, 0.0000,\n",
       "          0.0000, 0.0000, 0.0000, 0.0000, 0.0000, 0.0000, 0.0000, 0.0000,\n",
       "          0.0000, 0.0000, 0.0000, 0.0000],\n",
       "         [0.0000, 0.0000, 0.0000, 0.0000, 0.0000, 0.0000, 0.0000, 0.0000,\n",
       "          0.0000, 0.0000, 0.0000, 0.0000, 0.0000, 0.0000, 0.0000, 0.0000,\n",
       "          0.0000, 0.0000, 0.0000, 0.0000, 0.0000, 0.0000, 0.0000, 0.0000,\n",
       "          0.0000, 0.0000, 0.0000, 0.0000],\n",
       "         [0.0000, 0.0000, 0.0000, 0.0000, 0.0000, 0.0000, 0.0000, 0.0000,\n",
       "          0.0000, 0.0000, 0.0000, 0.0000, 0.0000, 0.0000, 0.0000, 0.0000,\n",
       "          0.0000, 0.0000, 0.0000, 0.0000, 0.0000, 0.0000, 0.0000, 0.0000,\n",
       "          0.0000, 0.0000, 0.0000, 0.0000],\n",
       "         [0.0000, 0.0000, 0.0000, 0.0000, 0.0000, 0.0000, 0.0000, 0.0000,\n",
       "          0.0000, 0.0000, 0.0000, 0.0000, 0.3647, 0.6941, 0.8863, 0.5176,\n",
       "          0.0588, 0.0000, 0.0000, 0.0000, 0.0000, 0.0000, 0.0000, 0.0000,\n",
       "          0.0000, 0.0000, 0.0000, 0.0000],\n",
       "         [0.0000, 0.0000, 0.0000, 0.0000, 0.0000, 0.0000, 0.0000, 0.0000,\n",
       "          0.0000, 0.0000, 0.1961, 0.6667, 0.9882, 0.9961, 0.9961, 0.9961,\n",
       "          0.4118, 0.0000, 0.0000, 0.0000, 0.0000, 0.0000, 0.0000, 0.0000,\n",
       "          0.0000, 0.0000, 0.0000, 0.0000],\n",
       "         [0.0000, 0.0000, 0.0000, 0.0000, 0.0000, 0.0000, 0.0000, 0.0000,\n",
       "          0.0000, 0.2353, 0.9333, 0.9961, 0.9961, 0.5608, 0.3333, 0.7020,\n",
       "          0.8588, 0.0667, 0.0000, 0.0000, 0.0000, 0.0000, 0.0000, 0.0000,\n",
       "          0.0000, 0.0000, 0.0000, 0.0000],\n",
       "         [0.0000, 0.0000, 0.0000, 0.0000, 0.0000, 0.0000, 0.0000, 0.0000,\n",
       "          0.1255, 0.7725, 0.9961, 0.9333, 0.3725, 0.0118, 0.0000, 0.0000,\n",
       "          0.7922, 0.1804, 0.0000, 0.0000, 0.0000, 0.0000, 0.0000, 0.0000,\n",
       "          0.0000, 0.0000, 0.0000, 0.0000],\n",
       "         [0.0000, 0.0000, 0.0000, 0.0000, 0.0000, 0.0000, 0.0000, 0.0471,\n",
       "          0.8118, 0.9961, 0.9333, 0.2314, 0.0000, 0.0000, 0.0000, 0.0000,\n",
       "          0.0706, 0.0000, 0.0000, 0.0000, 0.0000, 0.0000, 0.0000, 0.0000,\n",
       "          0.0000, 0.0000, 0.0000, 0.0000],\n",
       "         [0.0000, 0.0000, 0.0000, 0.0000, 0.0000, 0.0000, 0.0000, 0.6667,\n",
       "          0.9961, 0.8078, 0.2314, 0.0000, 0.0000, 0.0000, 0.0000, 0.0000,\n",
       "          0.0000, 0.0000, 0.0000, 0.0000, 0.0000, 0.0000, 0.0000, 0.0000,\n",
       "          0.0000, 0.0000, 0.0000, 0.0000],\n",
       "         [0.0000, 0.0000, 0.0000, 0.0000, 0.0000, 0.0000, 0.4471, 0.9882,\n",
       "          0.9294, 0.2078, 0.0000, 0.0000, 0.0000, 0.0000, 0.0000, 0.0000,\n",
       "          0.0000, 0.0000, 0.0000, 0.0000, 0.0000, 0.0000, 0.0000, 0.0000,\n",
       "          0.0000, 0.0000, 0.0000, 0.0000],\n",
       "         [0.0000, 0.0000, 0.0000, 0.0000, 0.0000, 0.0314, 0.8980, 0.9961,\n",
       "          0.3843, 0.0000, 0.0000, 0.0000, 0.0000, 0.0000, 0.0000, 0.0000,\n",
       "          0.0000, 0.0000, 0.0000, 0.0235, 0.2784, 0.4824, 0.4824, 0.1529,\n",
       "          0.0000, 0.0000, 0.0000, 0.0000],\n",
       "         [0.0000, 0.0000, 0.0000, 0.0000, 0.0000, 0.4000, 0.9961, 0.8275,\n",
       "          0.0863, 0.0000, 0.0000, 0.0000, 0.0000, 0.0000, 0.0000, 0.0000,\n",
       "          0.0000, 0.0000, 0.0000, 0.5961, 0.9961, 0.9961, 0.9961, 0.9255,\n",
       "          0.0980, 0.0000, 0.0000, 0.0000],\n",
       "         [0.0000, 0.0000, 0.0000, 0.0000, 0.0000, 0.8627, 0.9961, 0.2196,\n",
       "          0.0000, 0.0000, 0.0000, 0.0000, 0.0000, 0.0000, 0.0000, 0.0000,\n",
       "          0.0000, 0.0118, 0.6157, 0.9961, 0.9804, 0.7373, 0.7961, 1.0000,\n",
       "          0.7216, 0.0000, 0.0000, 0.0000],\n",
       "         [0.0000, 0.0000, 0.0000, 0.0000, 0.0000, 0.9961, 0.9176, 0.1059,\n",
       "          0.0000, 0.0000, 0.0000, 0.0000, 0.0000, 0.0000, 0.0000, 0.0000,\n",
       "          0.0000, 0.5569, 0.9961, 0.8431, 0.3059, 0.0000, 0.2235, 0.9961,\n",
       "          0.9961, 0.0000, 0.0000, 0.0000],\n",
       "         [0.0000, 0.0000, 0.0000, 0.0000, 0.0000, 0.9961, 0.9059, 0.0902,\n",
       "          0.0000, 0.0000, 0.0000, 0.0000, 0.0000, 0.0000, 0.0000, 0.0000,\n",
       "          0.4196, 0.9451, 0.9843, 0.2902, 0.0000, 0.0000, 0.2392, 0.9961,\n",
       "          0.9804, 0.0000, 0.0000, 0.0000],\n",
       "         [0.0000, 0.0000, 0.0000, 0.0000, 0.0000, 0.9961, 0.9961, 0.2196,\n",
       "          0.0000, 0.0000, 0.0000, 0.0000, 0.0000, 0.0000, 0.0000, 0.2863,\n",
       "          0.9569, 0.9843, 0.3569, 0.0000, 0.0000, 0.1020, 0.8471, 0.9961,\n",
       "          0.5137, 0.0000, 0.0000, 0.0000],\n",
       "         [0.0000, 0.0000, 0.0000, 0.0000, 0.0000, 0.7216, 0.9961, 0.4941,\n",
       "          0.0000, 0.0000, 0.0000, 0.0000, 0.0000, 0.0000, 0.1412, 0.9725,\n",
       "          0.9961, 0.4118, 0.0000, 0.0000, 0.0863, 0.5922, 0.9961, 0.8235,\n",
       "          0.0196, 0.0000, 0.0000, 0.0000],\n",
       "         [0.0000, 0.0000, 0.0000, 0.0000, 0.0000, 0.1451, 0.9451, 0.9882,\n",
       "          0.5647, 0.0627, 0.0000, 0.0000, 0.0000, 0.2588, 0.9490, 0.9961,\n",
       "          0.5412, 0.0431, 0.0510, 0.3529, 0.8941, 0.9961, 0.7843, 0.0941,\n",
       "          0.0000, 0.0000, 0.0000, 0.0000],\n",
       "         [0.0000, 0.0000, 0.0000, 0.0000, 0.0000, 0.0000, 0.5020, 0.9961,\n",
       "          0.9961, 0.8314, 0.4039, 0.0980, 0.0000, 0.4824, 0.9961, 0.8157,\n",
       "          0.2078, 0.4863, 0.8980, 0.9961, 0.9686, 0.5373, 0.1216, 0.0000,\n",
       "          0.0000, 0.0000, 0.0000, 0.0000],\n",
       "         [0.0000, 0.0000, 0.0000, 0.0000, 0.0000, 0.0000, 0.0078, 0.3373,\n",
       "          0.9216, 0.9961, 0.9961, 0.9725, 0.9608, 0.9765, 0.9961, 0.9882,\n",
       "          0.9765, 0.9961, 0.9961, 0.7176, 0.2392, 0.0000, 0.0000, 0.0000,\n",
       "          0.0000, 0.0000, 0.0000, 0.0000],\n",
       "         [0.0000, 0.0000, 0.0000, 0.0000, 0.0000, 0.0000, 0.0000, 0.0000,\n",
       "          0.0980, 0.3529, 0.6784, 0.8824, 0.8824, 0.8824, 0.8824, 0.8863,\n",
       "          0.5529, 0.5137, 0.2706, 0.0118, 0.0000, 0.0000, 0.0000, 0.0000,\n",
       "          0.0000, 0.0000, 0.0000, 0.0000],\n",
       "         [0.0000, 0.0000, 0.0000, 0.0000, 0.0000, 0.0000, 0.0000, 0.0000,\n",
       "          0.0000, 0.0000, 0.0000, 0.0000, 0.0000, 0.0000, 0.0000, 0.0000,\n",
       "          0.0000, 0.0000, 0.0000, 0.0000, 0.0000, 0.0000, 0.0000, 0.0000,\n",
       "          0.0000, 0.0000, 0.0000, 0.0000],\n",
       "         [0.0000, 0.0000, 0.0000, 0.0000, 0.0000, 0.0000, 0.0000, 0.0000,\n",
       "          0.0000, 0.0000, 0.0000, 0.0000, 0.0000, 0.0000, 0.0000, 0.0000,\n",
       "          0.0000, 0.0000, 0.0000, 0.0000, 0.0000, 0.0000, 0.0000, 0.0000,\n",
       "          0.0000, 0.0000, 0.0000, 0.0000],\n",
       "         [0.0000, 0.0000, 0.0000, 0.0000, 0.0000, 0.0000, 0.0000, 0.0000,\n",
       "          0.0000, 0.0000, 0.0000, 0.0000, 0.0000, 0.0000, 0.0000, 0.0000,\n",
       "          0.0000, 0.0000, 0.0000, 0.0000, 0.0000, 0.0000, 0.0000, 0.0000,\n",
       "          0.0000, 0.0000, 0.0000, 0.0000],\n",
       "         [0.0000, 0.0000, 0.0000, 0.0000, 0.0000, 0.0000, 0.0000, 0.0000,\n",
       "          0.0000, 0.0000, 0.0000, 0.0000, 0.0000, 0.0000, 0.0000, 0.0000,\n",
       "          0.0000, 0.0000, 0.0000, 0.0000, 0.0000, 0.0000, 0.0000, 0.0000,\n",
       "          0.0000, 0.0000, 0.0000, 0.0000],\n",
       "         [0.0000, 0.0000, 0.0000, 0.0000, 0.0000, 0.0000, 0.0000, 0.0000,\n",
       "          0.0000, 0.0000, 0.0000, 0.0000, 0.0000, 0.0000, 0.0000, 0.0000,\n",
       "          0.0000, 0.0000, 0.0000, 0.0000, 0.0000, 0.0000, 0.0000, 0.0000,\n",
       "          0.0000, 0.0000, 0.0000, 0.0000],\n",
       "         [0.0000, 0.0000, 0.0000, 0.0000, 0.0000, 0.0000, 0.0000, 0.0000,\n",
       "          0.0000, 0.0000, 0.0000, 0.0000, 0.0000, 0.0000, 0.0000, 0.0000,\n",
       "          0.0000, 0.0000, 0.0000, 0.0000, 0.0000, 0.0000, 0.0000, 0.0000,\n",
       "          0.0000, 0.0000, 0.0000, 0.0000]]])"
      ]
     },
     "execution_count": 28,
     "metadata": {},
     "output_type": "execute_result"
    }
   ],
   "source": [
    "image1 = images[0]\n",
    "image1"
   ]
  },
  {
   "cell_type": "code",
   "execution_count": 29,
   "id": "aa5022a0",
   "metadata": {},
   "outputs": [
    {
     "data": {
      "text/plain": [
       "tensor(6)"
      ]
     },
     "execution_count": 29,
     "metadata": {},
     "output_type": "execute_result"
    }
   ],
   "source": [
    "label1 = labels[0]\n",
    "label1"
   ]
  },
  {
   "cell_type": "code",
   "execution_count": 30,
   "id": "ef9bde8d",
   "metadata": {},
   "outputs": [
    {
     "data": {
      "text/plain": [
       "torch.Size([1, 28, 28])"
      ]
     },
     "execution_count": 30,
     "metadata": {},
     "output_type": "execute_result"
    }
   ],
   "source": [
    "image1_shape = images[0].shape\n",
    "image1_shape"
   ]
  },
  {
   "cell_type": "code",
   "execution_count": 31,
   "id": "53b6ab6e",
   "metadata": {},
   "outputs": [
    {
     "data": {
      "text/plain": [
       "<matplotlib.image.AxesImage at 0x13f56a590>"
      ]
     },
     "execution_count": 31,
     "metadata": {},
     "output_type": "execute_result"
    },
    {
     "data": {
      "image/png": "[encoded data removed]",
      "text/plain": [
       "<Figure size 640x480 with 1 Axes>"
      ]
     },
     "metadata": {},
     "output_type": "display_data"
    }
   ],
   "source": [
    "import matplotlib.pyplot as plt\n",
    "plt.imshow(image1.permute(1, 2, 0))"
   ]
  },
  {
   "cell_type": "markdown",
   "id": "2772da88",
   "metadata": {},
   "source": [
    "#### 모델 정의"
   ]
  },
  {
   "cell_type": "code",
   "execution_count": 32,
   "id": "b03fcd30",
   "metadata": {},
   "outputs": [],
   "source": [
    "import torch.nn as nn\n",
    "\n",
    "class Net(nn.Module):\n",
    "    def __init__(self):\n",
    "        super(Net, self).__init__()\n",
    "        self.layer1 = nn.Sequential(\n",
    "            nn.Conv2d(1, 6, 5),\n",
    "            nn.BatchNorm2d(6),\n",
    "            nn.ReLU(),\n",
    "            nn.MaxPool2d(2, 2)\n",
    "        )\n",
    "        self.fc = nn.Linear(6*12*12, 10) # 10 final nodes as CIFAR10 dataset has 10 classes\n",
    "    \n",
    "    def forward(self, x):\n",
    "        out = self.layer1(x)\n",
    "        out = out.reshape(out.size(0), -1)\n",
    "        out = self.fc(out)\n",
    "        return out\n",
    "    \n",
    "model = Net()"
   ]
  },
  {
   "cell_type": "code",
   "execution_count": 33,
   "id": "f80171f8",
   "metadata": {},
   "outputs": [
    {
     "name": "stdout",
     "output_type": "stream",
     "text": [
      "Net(\n",
      "  (layer1): Sequential(\n",
      "    (0): Conv2d(1, 6, kernel_size=(5, 5), stride=(1, 1))\n",
      "    (1): BatchNorm2d(6, eps=1e-05, momentum=0.1, affine=True, track_running_stats=True)\n",
      "    (2): ReLU()\n",
      "    (3): MaxPool2d(kernel_size=2, stride=2, padding=0, dilation=1, ceil_mode=False)\n",
      "  )\n",
      "  (fc): Linear(in_features=864, out_features=10, bias=True)\n",
      ")\n"
     ]
    }
   ],
   "source": [
    "# cf) check which layers constitute Network\n",
    "print(model)"
   ]
  },
  {
   "cell_type": "code",
   "execution_count": 34,
   "id": "7ac40d0e",
   "metadata": {},
   "outputs": [],
   "source": [
    "data_iter = iter(data_loader)"
   ]
  },
  {
   "cell_type": "code",
   "execution_count": 35,
   "id": "5c3d875d",
   "metadata": {},
   "outputs": [
    {
     "data": {
      "text/plain": [
       "<torch.utils.data.dataloader._SingleProcessDataLoaderIter at 0x13f619450>"
      ]
     },
     "execution_count": 35,
     "metadata": {},
     "output_type": "execute_result"
    }
   ],
   "source": [
    "data_iter"
   ]
  },
  {
   "cell_type": "code",
   "execution_count": 36,
   "id": "69226bf3",
   "metadata": {},
   "outputs": [
    {
     "data": {
      "text/plain": [
       "[tensor([[[[0., 0., 0.,  ..., 0., 0., 0.],\n",
       "           [0., 0., 0.,  ..., 0., 0., 0.],\n",
       "           [0., 0., 0.,  ..., 0., 0., 0.],\n",
       "           ...,\n",
       "           [0., 0., 0.,  ..., 0., 0., 0.],\n",
       "           [0., 0., 0.,  ..., 0., 0., 0.],\n",
       "           [0., 0., 0.,  ..., 0., 0., 0.]]],\n",
       " \n",
       " \n",
       "         [[[0., 0., 0.,  ..., 0., 0., 0.],\n",
       "           [0., 0., 0.,  ..., 0., 0., 0.],\n",
       "           [0., 0., 0.,  ..., 0., 0., 0.],\n",
       "           ...,\n",
       "           [0., 0., 0.,  ..., 0., 0., 0.],\n",
       "           [0., 0., 0.,  ..., 0., 0., 0.],\n",
       "           [0., 0., 0.,  ..., 0., 0., 0.]]],\n",
       " \n",
       " \n",
       "         [[[0., 0., 0.,  ..., 0., 0., 0.],\n",
       "           [0., 0., 0.,  ..., 0., 0., 0.],\n",
       "           [0., 0., 0.,  ..., 0., 0., 0.],\n",
       "           ...,\n",
       "           [0., 0., 0.,  ..., 0., 0., 0.],\n",
       "           [0., 0., 0.,  ..., 0., 0., 0.],\n",
       "           [0., 0., 0.,  ..., 0., 0., 0.]]],\n",
       " \n",
       " \n",
       "         ...,\n",
       " \n",
       " \n",
       "         [[[0., 0., 0.,  ..., 0., 0., 0.],\n",
       "           [0., 0., 0.,  ..., 0., 0., 0.],\n",
       "           [0., 0., 0.,  ..., 0., 0., 0.],\n",
       "           ...,\n",
       "           [0., 0., 0.,  ..., 0., 0., 0.],\n",
       "           [0., 0., 0.,  ..., 0., 0., 0.],\n",
       "           [0., 0., 0.,  ..., 0., 0., 0.]]],\n",
       " \n",
       " \n",
       "         [[[0., 0., 0.,  ..., 0., 0., 0.],\n",
       "           [0., 0., 0.,  ..., 0., 0., 0.],\n",
       "           [0., 0., 0.,  ..., 0., 0., 0.],\n",
       "           ...,\n",
       "           [0., 0., 0.,  ..., 0., 0., 0.],\n",
       "           [0., 0., 0.,  ..., 0., 0., 0.],\n",
       "           [0., 0., 0.,  ..., 0., 0., 0.]]],\n",
       " \n",
       " \n",
       "         [[[0., 0., 0.,  ..., 0., 0., 0.],\n",
       "           [0., 0., 0.,  ..., 0., 0., 0.],\n",
       "           [0., 0., 0.,  ..., 0., 0., 0.],\n",
       "           ...,\n",
       "           [0., 0., 0.,  ..., 0., 0., 0.],\n",
       "           [0., 0., 0.,  ..., 0., 0., 0.],\n",
       "           [0., 0., 0.,  ..., 0., 0., 0.]]]]),\n",
       " tensor([4, 1, 2, 9, 8, 6, 5, 4, 9, 4, 5, 4, 1, 0, 7, 1, 7, 4, 4, 9, 2, 3, 6, 0,\n",
       "         4, 7, 7, 5, 1, 3, 4, 2, 7, 8, 7, 1, 2, 5, 6, 4, 7, 4, 9, 1, 3, 9, 8, 2,\n",
       "         5, 0, 1, 7, 6, 6, 4, 7, 8, 4, 2, 4, 5, 8, 2, 3])]"
      ]
     },
     "execution_count": 36,
     "metadata": {},
     "output_type": "execute_result"
    }
   ],
   "source": [
    "next(data_iter)"
   ]
  },
  {
   "cell_type": "code",
   "execution_count": 37,
   "id": "683cfde4",
   "metadata": {},
   "outputs": [
    {
     "name": "stdout",
     "output_type": "stream",
     "text": [
      "torch.Size([64, 10]) \n",
      " tensor([ 0.1804,  0.1086, -0.4142,  0.5917,  0.8328,  0.0551,  0.7042,  0.1365,\n",
      "        -0.0441,  0.5823], grad_fn=<SelectBackward0>) \n",
      " 4\n"
     ]
    }
   ],
   "source": [
    "# cf) check how data passes through the Network\n",
    "data_iter = iter(data_loader)\n",
    "images, labels = next(data_iter) # only get one mini-batch\n",
    "outputs = model(images)\n",
    "print(outputs.size(), '\\n', outputs[0], '\\n', outputs[0].tolist().index(max(outputs[0])))"
   ]
  },
  {
   "cell_type": "markdown",
   "id": "1dfdd760",
   "metadata": {},
   "source": [
    "#### 손실함수 / 최적화함수 정의"
   ]
  },
  {
   "cell_type": "code",
   "execution_count": 38,
   "id": "93343bdf",
   "metadata": {},
   "outputs": [],
   "source": [
    "criterion = nn.CrossEntropyLoss()\n",
    "optimizer = torch.optim.SGD(model.parameters(), lr=0.001)"
   ]
  },
  {
   "cell_type": "markdown",
   "id": "76aceb90",
   "metadata": {},
   "source": [
    "#### 학습"
   ]
  },
  {
   "cell_type": "code",
   "execution_count": 39,
   "id": "0cbcc51a",
   "metadata": {},
   "outputs": [
    {
     "name": "stdout",
     "output_type": "stream",
     "text": [
      "Epoch [1/10], Step [1/938], Loss: 2.3922\n",
      "Epoch [1/10], Step [51/938], Loss: 2.0683\n",
      "Epoch [1/10], Step [101/938], Loss: 1.7780\n",
      "Epoch [1/10], Step [151/938], Loss: 1.5581\n",
      "Epoch [1/10], Step [201/938], Loss: 1.3992\n",
      "Epoch [1/10], Step [251/938], Loss: 1.3481\n",
      "Epoch [1/10], Step [301/938], Loss: 1.0946\n",
      "Epoch [1/10], Step [351/938], Loss: 1.1084\n",
      "Epoch [1/10], Step [401/938], Loss: 0.9657\n",
      "Epoch [1/10], Step [451/938], Loss: 0.8185\n",
      "Epoch [1/10], Step [501/938], Loss: 0.8232\n",
      "Epoch [1/10], Step [551/938], Loss: 0.7136\n",
      "Epoch [1/10], Step [601/938], Loss: 0.6788\n",
      "Epoch [1/10], Step [651/938], Loss: 0.6893\n",
      "Epoch [1/10], Step [701/938], Loss: 0.8271\n",
      "Epoch [1/10], Step [751/938], Loss: 0.6465\n",
      "Epoch [1/10], Step [801/938], Loss: 0.4895\n",
      "Epoch [1/10], Step [851/938], Loss: 0.5019\n",
      "Epoch [1/10], Step [901/938], Loss: 0.6219\n",
      "Epoch [1/10], Step [938/938], Loss: 0.6544\n",
      "Epoch [2/10], Step [1/938], Loss: 0.5536\n",
      "Epoch [2/10], Step [51/938], Loss: 0.5878\n",
      "Epoch [2/10], Step [101/938], Loss: 0.5868\n",
      "Epoch [2/10], Step [151/938], Loss: 0.5531\n",
      "Epoch [2/10], Step [201/938], Loss: 0.5587\n",
      "Epoch [2/10], Step [251/938], Loss: 0.4226\n",
      "Epoch [2/10], Step [301/938], Loss: 0.5751\n",
      "Epoch [2/10], Step [351/938], Loss: 0.5307\n",
      "Epoch [2/10], Step [401/938], Loss: 0.4315\n",
      "Epoch [2/10], Step [451/938], Loss: 0.4963\n",
      "Epoch [2/10], Step [501/938], Loss: 0.4491\n",
      "Epoch [2/10], Step [551/938], Loss: 0.4077\n",
      "Epoch [2/10], Step [601/938], Loss: 0.3886\n",
      "Epoch [2/10], Step [651/938], Loss: 0.2697\n",
      "Epoch [2/10], Step [701/938], Loss: 0.4445\n",
      "Epoch [2/10], Step [751/938], Loss: 0.3963\n",
      "Epoch [2/10], Step [801/938], Loss: 0.4500\n",
      "Epoch [2/10], Step [851/938], Loss: 0.4859\n",
      "Epoch [2/10], Step [901/938], Loss: 0.4259\n",
      "Epoch [2/10], Step [938/938], Loss: 0.5164\n",
      "Epoch [3/10], Step [1/938], Loss: 0.5163\n",
      "Epoch [3/10], Step [51/938], Loss: 0.3827\n",
      "Epoch [3/10], Step [101/938], Loss: 0.3835\n",
      "Epoch [3/10], Step [151/938], Loss: 0.4026\n",
      "Epoch [3/10], Step [201/938], Loss: 0.4330\n",
      "Epoch [3/10], Step [251/938], Loss: 0.3966\n",
      "Epoch [3/10], Step [301/938], Loss: 0.2939\n",
      "Epoch [3/10], Step [351/938], Loss: 0.2990\n",
      "Epoch [3/10], Step [401/938], Loss: 0.2686\n",
      "Epoch [3/10], Step [451/938], Loss: 0.5701\n",
      "Epoch [3/10], Step [501/938], Loss: 0.2653\n",
      "Epoch [3/10], Step [551/938], Loss: 0.4968\n",
      "Epoch [3/10], Step [601/938], Loss: 0.3133\n",
      "Epoch [3/10], Step [651/938], Loss: 0.4340\n",
      "Epoch [3/10], Step [701/938], Loss: 0.3764\n",
      "Epoch [3/10], Step [751/938], Loss: 0.3552\n",
      "Epoch [3/10], Step [801/938], Loss: 0.2872\n",
      "Epoch [3/10], Step [851/938], Loss: 0.3995\n",
      "Epoch [3/10], Step [901/938], Loss: 0.3288\n",
      "Epoch [3/10], Step [938/938], Loss: 0.3284\n",
      "Epoch [4/10], Step [1/938], Loss: 0.2414\n",
      "Epoch [4/10], Step [51/938], Loss: 0.3082\n",
      "Epoch [4/10], Step [101/938], Loss: 0.4371\n",
      "Epoch [4/10], Step [151/938], Loss: 0.4494\n",
      "Epoch [4/10], Step [201/938], Loss: 0.2565\n",
      "Epoch [4/10], Step [251/938], Loss: 0.2710\n",
      "Epoch [4/10], Step [301/938], Loss: 0.4041\n",
      "Epoch [4/10], Step [351/938], Loss: 0.3250\n",
      "Epoch [4/10], Step [401/938], Loss: 0.3287\n",
      "Epoch [4/10], Step [451/938], Loss: 0.2018\n",
      "Epoch [4/10], Step [501/938], Loss: 0.4737\n",
      "Epoch [4/10], Step [551/938], Loss: 0.2236\n",
      "Epoch [4/10], Step [601/938], Loss: 0.2660\n",
      "Epoch [4/10], Step [651/938], Loss: 0.2956\n",
      "Epoch [4/10], Step [701/938], Loss: 0.2935\n",
      "Epoch [4/10], Step [751/938], Loss: 0.2169\n",
      "Epoch [4/10], Step [801/938], Loss: 0.3617\n",
      "Epoch [4/10], Step [851/938], Loss: 0.4779\n",
      "Epoch [4/10], Step [901/938], Loss: 0.3088\n",
      "Epoch [4/10], Step [938/938], Loss: 0.4623\n",
      "Epoch [5/10], Step [1/938], Loss: 0.2933\n",
      "Epoch [5/10], Step [51/938], Loss: 0.3660\n",
      "Epoch [5/10], Step [101/938], Loss: 0.1541\n",
      "Epoch [5/10], Step [151/938], Loss: 0.3388\n",
      "Epoch [5/10], Step [201/938], Loss: 0.2574\n",
      "Epoch [5/10], Step [251/938], Loss: 0.4191\n",
      "Epoch [5/10], Step [301/938], Loss: 0.2886\n",
      "Epoch [5/10], Step [351/938], Loss: 0.3147\n",
      "Epoch [5/10], Step [401/938], Loss: 0.4625\n",
      "Epoch [5/10], Step [451/938], Loss: 0.2428\n",
      "Epoch [5/10], Step [501/938], Loss: 0.2707\n",
      "Epoch [5/10], Step [551/938], Loss: 0.2300\n",
      "Epoch [5/10], Step [601/938], Loss: 0.2383\n",
      "Epoch [5/10], Step [651/938], Loss: 0.1775\n",
      "Epoch [5/10], Step [701/938], Loss: 0.1384\n",
      "Epoch [5/10], Step [751/938], Loss: 0.2998\n",
      "Epoch [5/10], Step [801/938], Loss: 0.3097\n",
      "Epoch [5/10], Step [851/938], Loss: 0.3308\n",
      "Epoch [5/10], Step [901/938], Loss: 0.2028\n",
      "Epoch [5/10], Step [938/938], Loss: 0.2442\n",
      "Epoch [6/10], Step [1/938], Loss: 0.3188\n",
      "Epoch [6/10], Step [51/938], Loss: 0.3481\n",
      "Epoch [6/10], Step [101/938], Loss: 0.2388\n",
      "Epoch [6/10], Step [151/938], Loss: 0.1429\n",
      "Epoch [6/10], Step [201/938], Loss: 0.2777\n",
      "Epoch [6/10], Step [251/938], Loss: 0.1233\n",
      "Epoch [6/10], Step [301/938], Loss: 0.3091\n",
      "Epoch [6/10], Step [351/938], Loss: 0.4578\n",
      "Epoch [6/10], Step [401/938], Loss: 0.4621\n",
      "Epoch [6/10], Step [451/938], Loss: 0.1746\n",
      "Epoch [6/10], Step [501/938], Loss: 0.2345\n",
      "Epoch [6/10], Step [551/938], Loss: 0.2315\n",
      "Epoch [6/10], Step [601/938], Loss: 0.2905\n",
      "Epoch [6/10], Step [651/938], Loss: 0.1614\n",
      "Epoch [6/10], Step [701/938], Loss: 0.4189\n",
      "Epoch [6/10], Step [751/938], Loss: 0.1303\n",
      "Epoch [6/10], Step [801/938], Loss: 0.2083\n",
      "Epoch [6/10], Step [851/938], Loss: 0.4059\n",
      "Epoch [6/10], Step [901/938], Loss: 0.1900\n",
      "Epoch [6/10], Step [938/938], Loss: 0.3135\n",
      "Epoch [7/10], Step [1/938], Loss: 0.1997\n",
      "Epoch [7/10], Step [51/938], Loss: 0.3400\n",
      "Epoch [7/10], Step [101/938], Loss: 0.1157\n",
      "Epoch [7/10], Step [151/938], Loss: 0.2744\n",
      "Epoch [7/10], Step [201/938], Loss: 0.2535\n",
      "Epoch [7/10], Step [251/938], Loss: 0.4106\n",
      "Epoch [7/10], Step [301/938], Loss: 0.3252\n",
      "Epoch [7/10], Step [351/938], Loss: 0.1490\n",
      "Epoch [7/10], Step [401/938], Loss: 0.3243\n",
      "Epoch [7/10], Step [451/938], Loss: 0.4224\n",
      "Epoch [7/10], Step [501/938], Loss: 0.2274\n",
      "Epoch [7/10], Step [551/938], Loss: 0.3502\n",
      "Epoch [7/10], Step [601/938], Loss: 0.4138\n",
      "Epoch [7/10], Step [651/938], Loss: 0.1149\n",
      "Epoch [7/10], Step [701/938], Loss: 0.5043\n",
      "Epoch [7/10], Step [751/938], Loss: 0.2083\n",
      "Epoch [7/10], Step [801/938], Loss: 0.2427\n",
      "Epoch [7/10], Step [851/938], Loss: 0.3231\n",
      "Epoch [7/10], Step [901/938], Loss: 0.1255\n",
      "Epoch [7/10], Step [938/938], Loss: 0.1243\n",
      "Epoch [8/10], Step [1/938], Loss: 0.4965\n",
      "Epoch [8/10], Step [51/938], Loss: 0.3885\n",
      "Epoch [8/10], Step [101/938], Loss: 0.2752\n",
      "Epoch [8/10], Step [151/938], Loss: 0.2686\n",
      "Epoch [8/10], Step [201/938], Loss: 0.1350\n",
      "Epoch [8/10], Step [251/938], Loss: 0.3085\n",
      "Epoch [8/10], Step [301/938], Loss: 0.2561\n",
      "Epoch [8/10], Step [351/938], Loss: 0.1938\n",
      "Epoch [8/10], Step [401/938], Loss: 0.2303\n",
      "Epoch [8/10], Step [451/938], Loss: 0.2710\n",
      "Epoch [8/10], Step [501/938], Loss: 0.1955\n",
      "Epoch [8/10], Step [551/938], Loss: 0.1967\n",
      "Epoch [8/10], Step [601/938], Loss: 0.1481\n",
      "Epoch [8/10], Step [651/938], Loss: 0.3241\n",
      "Epoch [8/10], Step [701/938], Loss: 0.1630\n",
      "Epoch [8/10], Step [751/938], Loss: 0.2648\n",
      "Epoch [8/10], Step [801/938], Loss: 0.1975\n",
      "Epoch [8/10], Step [851/938], Loss: 0.2654\n",
      "Epoch [8/10], Step [901/938], Loss: 0.2013\n",
      "Epoch [8/10], Step [938/938], Loss: 0.1159\n",
      "Epoch [9/10], Step [1/938], Loss: 0.2248\n",
      "Epoch [9/10], Step [51/938], Loss: 0.1569\n",
      "Epoch [9/10], Step [101/938], Loss: 0.1241\n",
      "Epoch [9/10], Step [151/938], Loss: 0.1859\n",
      "Epoch [9/10], Step [201/938], Loss: 0.1190\n",
      "Epoch [9/10], Step [251/938], Loss: 0.2145\n",
      "Epoch [9/10], Step [301/938], Loss: 0.1090\n",
      "Epoch [9/10], Step [351/938], Loss: 0.2698\n",
      "Epoch [9/10], Step [401/938], Loss: 0.3234\n",
      "Epoch [9/10], Step [451/938], Loss: 0.1719\n",
      "Epoch [9/10], Step [501/938], Loss: 0.2629\n",
      "Epoch [9/10], Step [551/938], Loss: 0.1763\n",
      "Epoch [9/10], Step [601/938], Loss: 0.2345\n",
      "Epoch [9/10], Step [651/938], Loss: 0.1418\n",
      "Epoch [9/10], Step [701/938], Loss: 0.1134\n",
      "Epoch [9/10], Step [751/938], Loss: 0.0921\n",
      "Epoch [9/10], Step [801/938], Loss: 0.1354\n",
      "Epoch [9/10], Step [851/938], Loss: 0.1436\n",
      "Epoch [9/10], Step [901/938], Loss: 0.1801\n",
      "Epoch [9/10], Step [938/938], Loss: 0.2470\n",
      "Epoch [10/10], Step [1/938], Loss: 0.2163\n",
      "Epoch [10/10], Step [51/938], Loss: 0.2416\n",
      "Epoch [10/10], Step [101/938], Loss: 0.1202\n",
      "Epoch [10/10], Step [151/938], Loss: 0.2931\n",
      "Epoch [10/10], Step [201/938], Loss: 0.1548\n",
      "Epoch [10/10], Step [251/938], Loss: 0.1765\n",
      "Epoch [10/10], Step [301/938], Loss: 0.1033\n",
      "Epoch [10/10], Step [351/938], Loss: 0.2709\n",
      "Epoch [10/10], Step [401/938], Loss: 0.2450\n",
      "Epoch [10/10], Step [451/938], Loss: 0.1592\n",
      "Epoch [10/10], Step [501/938], Loss: 0.1859\n"
     ]
    },
    {
     "name": "stdout",
     "output_type": "stream",
     "text": [
      "Epoch [10/10], Step [551/938], Loss: 0.2105\n",
      "Epoch [10/10], Step [601/938], Loss: 0.1274\n",
      "Epoch [10/10], Step [651/938], Loss: 0.1492\n",
      "Epoch [10/10], Step [701/938], Loss: 0.1828\n",
      "Epoch [10/10], Step [751/938], Loss: 0.1903\n",
      "Epoch [10/10], Step [801/938], Loss: 0.2290\n",
      "Epoch [10/10], Step [851/938], Loss: 0.1805\n",
      "Epoch [10/10], Step [901/938], Loss: 0.1984\n",
      "Epoch [10/10], Step [938/938], Loss: 0.2611\n"
     ]
    }
   ],
   "source": [
    "epochs = 10\n",
    "for epoch in range(epochs):\n",
    "    for i, (images, labels) in enumerate(data_loader):\n",
    "        # Forward Propagate\n",
    "        outputs = model(images)\n",
    "        \n",
    "        # Get Loss, Compute Gradient, Update Parameters\n",
    "        loss = criterion(outputs, labels)\n",
    "        optimizer.zero_grad()\n",
    "        loss.backward()\n",
    "        optimizer.step()\n",
    "        \n",
    "        if i%50 == 0 or i+1==len(data_loader):\n",
    "            print('Epoch [{}/{}], Step [{}/{}], Loss: {:.4f}'.format(epoch+1, epochs, i+1, len(data_loader), loss.item()))\n",
    "        "
   ]
  },
  {
   "cell_type": "markdown",
   "id": "8cdeef56",
   "metadata": {},
   "source": [
    "#### 저장"
   ]
  },
  {
   "cell_type": "code",
   "execution_count": 40,
   "id": "a2738485",
   "metadata": {},
   "outputs": [],
   "source": [
    "torch.save(model.state_dict(), 'model.pth')"
   ]
  },
  {
   "cell_type": "markdown",
   "id": "416e2089",
   "metadata": {},
   "source": [
    "#### 테스트"
   ]
  },
  {
   "cell_type": "code",
   "execution_count": 41,
   "id": "adb4e5b6",
   "metadata": {},
   "outputs": [
    {
     "name": "stdout",
     "output_type": "stream",
     "text": [
      "tensor([[ 1.6686, -4.4787, -1.6108,  7.2607, -1.5096,  3.8042, -5.5051,  1.0153,\n",
      "          0.6893,  1.8771]], grad_fn=<AddmmBackward0>)\n"
     ]
    }
   ],
   "source": [
    "import torch\n",
    "\n",
    "test_data = torchvision.datasets.MNIST(root='./datasets', \n",
    "                                          train=False, \n",
    "                                          transform=transforms.ToTensor(), \n",
    "                                          download=True)\n",
    "\n",
    "test_data_loader = torch.utils.data.DataLoader(dataset=test_data, \n",
    "                                          batch_size=1,\n",
    "                                          shuffle=True)\n",
    "\n",
    "for i, (images, labels) in enumerate(test_data_loader):\n",
    "    # Forward Propagate\n",
    "    outputs = model(images)\n",
    "\n",
    "    print(outputs)\n",
    "    break\n",
    "        \n"
   ]
  },
  {
   "cell_type": "code",
   "execution_count": 42,
   "id": "e558e3ae",
   "metadata": {},
   "outputs": [
    {
     "data": {
      "text/plain": [
       "tensor(3)"
      ]
     },
     "execution_count": 42,
     "metadata": {},
     "output_type": "execute_result"
    }
   ],
   "source": [
    "torch.argmax(outputs)"
   ]
  },
  {
   "cell_type": "code",
   "execution_count": 43,
   "id": "caa2e0f2",
   "metadata": {},
   "outputs": [
    {
     "data": {
      "text/plain": [
       "tensor([3])"
      ]
     },
     "execution_count": 43,
     "metadata": {},
     "output_type": "execute_result"
    }
   ],
   "source": [
    "labels"
   ]
  }
 ],
 "metadata": {
  "kernelspec": {
   "display_name": "Python 3 (ipykernel)",
   "language": "python",
   "name": "python3"
  },
  "language_info": {
   "codemirror_mode": {
    "name": "ipython",
    "version": 3
   },
   "file_extension": ".py",
   "mimetype": "text/x-python",
   "name": "python",
   "nbconvert_exporter": "python",
   "pygments_lexer": "ipython3",
   "version": "3.10.9"
  }
 },
 "nbformat": 4,
 "nbformat_minor": 5
}
