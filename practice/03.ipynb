{
 "cells": [
  {
   "cell_type": "markdown",
   "metadata": {},
   "source": [
    "# Week 03. 데이터 전처리"
   ]
  },
  {
   "cell_type": "markdown",
   "metadata": {},
   "source": [
    "https://velog.io/@lasso/Chapter02-%EB%A8%B8%EC%8B%A0%EB%9F%AC%EB%8B%9D05-%EB%8D%B0%EC%9D%B4%ED%84%B0-%EC%A0%84%EC%B2%98%EB%A6%AC-%EB%8D%B0%EC%9D%B4%ED%84%B0-%EC%9D%B8%EC%BD%94%EB%94%A9\n",
    "\n",
    "1. manipulation (가공)\n",
    "    * grayscale\n",
    "    * rotation\n",
    "    * moving average\n",
    "1. normalization (스케일)\n",
    "    * min-max norm\n",
    "    * z-norm\n",
    "1. missing value 처리 (결측치)\n",
    "    * 삭제\n",
    "    * 대체\n",
    "1. feature transform (feature 변환)\n",
    "    * PCA\n",
    "1. label transform (라벨변환)\n",
    "    * one-hot encoding"
   ]
  },
  {
   "cell_type": "code",
   "execution_count": null,
   "metadata": {},
   "outputs": [],
   "source": []
  }
 ],
 "metadata": {
  "kernelspec": {
   "display_name": "Python 3",
   "language": "python",
   "name": "python3"
  },
  "language_info": {
   "codemirror_mode": {
    "name": "ipython",
    "version": 3
   },
   "file_extension": ".py",
   "mimetype": "text/x-python",
   "name": "python",
   "nbconvert_exporter": "python",
   "pygments_lexer": "ipython3",
   "version": "3.9.12"
  }
 },
 "nbformat": 4,
 "nbformat_minor": 4
}
